{
  "nbformat": 4,
  "nbformat_minor": 0,
  "metadata": {
    "colab": {
      "provenance": [],
      "authorship_tag": "ABX9TyMHlGzNTuRICAXcRCjlxkIR",
      "include_colab_link": true
    },
    "kernelspec": {
      "name": "python3",
      "display_name": "Python 3"
    },
    "language_info": {
      "name": "python"
    }
  },
  "cells": [
    {
      "cell_type": "markdown",
      "metadata": {
        "id": "view-in-github",
        "colab_type": "text"
      },
      "source": [
        "<a href=\"https://colab.research.google.com/github/dylan18x/hola-mundo/blob/main/Untitled0.ipynb\" target=\"_parent\"><img src=\"https://colab.research.google.com/assets/colab-badge.svg\" alt=\"Open In Colab\"/></a>"
      ]
    },
    {
      "cell_type": "markdown",
      "source": [
        "** Programa de Fortuna de Galleta y Piedra, papel o tijera\n",
        "* Podras porbar tu suerte para tu dia dia jugando la Galleta de la Fortuna y despues jugar piedra papel o tijera contra la computadora"
      ],
      "metadata": {
        "id": "L9X2KMEdbkqD"
      }
    },
    {
      "cell_type": "code",
      "execution_count": null,
      "metadata": {
        "id": "2T9vcmRtbMb0"
      },
      "outputs": [],
      "source": [
        "import random\n",
        "def generarFortuna():\n",
        "    num=random.randint(1,5)\n",
        "    if num == 1:\n",
        "        print(\"Hoy tendras un buen dia\")\n",
        "    elif num == 2:\n",
        "        print(\"Mejora tu personalidad\")\n",
        "    elif num == 3:\n",
        "        print(\"Recibiras una buena noticia\")\n",
        "    elif num == 4:\n",
        "        print(\"Pronto encontraras el amor\")\n",
        "    elif num == 5:\n",
        "        print(\"Se aproximan cambios en tu vida\")\n",
        "\n",
        "print(\"Vas a jugar piedra papel o tijera contra el computador\")\n",
        "print(\"Para PIEDRA digita 1\")\n",
        "print(\"Para PAPEL digita 2\")\n",
        "print(\"Para TIJERA digita 3\")\n",
        "miEleccion=int(input(\"Ingresa una de las 3 opciones: \"))\n",
        "if miEleccion == 1:\n",
        "    print(\"ELEGISTE PIEDRA\")\n",
        "elif miEleccion == 2:\n",
        "    print(\"ELEGISTE PAPEL\")\n",
        "elif miEleccion == 3:\n",
        "    print(\"ELEGISTE PIEDRA\")\n",
        "else:\n",
        "    print(\"DEBE ELEGIR UN NUMERO ENTRE 1 Y 3\")\n",
        "eleccionCompu=random.randint(1,3)\n",
        "if eleccionCompu == 1:\n",
        "    print(\"LA COMPU ELIGIO PIEDRA\")\n",
        "elif eleccionCompu == 2:\n",
        "    print(\"LA COMPU ELIGIO PAPEL\")\n",
        "elif eleccionCompu == 3:\n",
        "    print(\"LA COMPU ELIGIO TIJERA\")\n",
        "if miEleccion == 1 and eleccionCompu ==1:\n",
        "    print(\"NADIE GANA\")\n",
        "elif miEleccion == 2 and eleccionCompu ==2:\n",
        "    print(\"NADIE GANA\")\n",
        "elif miEleccion == 3 and eleccionCompu ==3:\n",
        "    print(\"NADIE GANA\")\n",
        "elif miEleccion == 1 and eleccionCompu ==2:\n",
        "    print(\"TE GANO LA COMPU XD\")\n",
        "elif miEleccion == 2 and eleccionCompu ==3:\n",
        "    print(\"TE GANO LA COMPU XD\")\n",
        "elif miEleccion == 3 and eleccionCompu ==1:\n",
        "    print(\"TE GANO LA COMPU XD\")\n",
        "elif miEleccion == 1 and eleccionCompu ==3:\n",
        "    print(\"FELICIDADES LE GANASTE A LA COMPU\")\n",
        "elif miEleccion == 2 and eleccionCompu ==1:\n",
        "    print(\"FELICIDADES LE GANASTE A LA COMPU\")\n",
        "elif miEleccion == 3 and eleccionCompu ==2:\n",
        "    print(\"FELICIDADES LE GANASTE A LA COMPU\")\n",
        "\n"
      ]
    }
  ]
}